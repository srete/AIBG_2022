{
 "cells": [
  {
   "cell_type": "code",
   "execution_count": 1,
   "metadata": {},
   "outputs": [],
   "source": [
    "import json\n",
    "import pickle\n",
    "import re\n",
    "\n",
    "# with open('generated_game_state.json', 'r') as f:\n",
    "#     game_state = json.load(f)\n",
    "\n",
    "with open('generated_game_state.pkl', 'rb') as f:\n",
    "    game_state = pickle.load(f)\n",
    "    game_state = json.loads(game_state['gameState'])\n",
    "    game_state = {'gameState': game_state}"
   ]
  },
  {
   "cell_type": "code",
   "execution_count": null,
   "metadata": {},
   "outputs": [],
   "source": []
  },
  {
   "cell_type": "code",
   "execution_count": 1,
   "metadata": {},
   "outputs": [
    {
     "name": "stdout",
     "output_type": "stream",
     "text": [
      "{'message': 'Neuspesno kreiranje igre, igrac:Hiperparametri je vec u igri sa ID:1'}\n",
      "{'message': 'Greska pri pokusaju train akcije, vec postoji aktivan poziv.'}\n",
      "<class 'dict'>\n",
      "{'message': 'Greska pri pokusaju train akcije, vec postoji aktivan poziv.'}\n"
     ]
    }
   ],
   "source": [
    "import requests\n",
    "import json\n",
    "import pickle\n",
    "\n",
    "SERVER_IP = \"http://aibg22.com:\"\n",
    "username = \"Hiperparametri\"\n",
    "password = \"#@YyRQt3Fk\"\n",
    "\n",
    "\n",
    "login_data = {\n",
    "    'username' : username,\n",
    "    'password' : password\n",
    "}\n",
    "token = requests.post(url =  SERVER_IP+\"8081\"+\"/user/login\",json = login_data).json()\n",
    "\n",
    "header_g = {\n",
    "    'Authorization' : 'Bearer ' + token[\"token\"]\n",
    "}\n",
    "g_params ={\n",
    "    'mapName':\"test1.txt\",\n",
    "    \"playerIdx\":\"1\" ,\n",
    "    \"time\":\"1\"}\n",
    "    \n",
    "join_game = requests.post(url =SERVER_IP +\"8081\" +\"/game/train\",headers = header_g,json = g_params)\n",
    "\n",
    "\n",
    "# TEST AKCIJA: MOVE SA POLJA (-7,-7) na polje (-7,-6)\n",
    "action_0 = {\n",
    "    \"action\":\"move,-7,-7\"\n",
    "}\n",
    "start_action  = requests.post(url =SERVER_IP + \"8081\"+\"/game/actionTrain\",headers = header_g, json = action_0 )\n",
    "\n",
    "print(join_game.json())\n",
    "print(start_action.json())\n",
    "\n",
    "start_action_dict = start_action.json()\n",
    "print(type(start_action_dict))\n",
    "\n",
    "# with open('generated_game_state.json', 'w', encoding='utf-8') as f:\n",
    "#     json.dump(start_action_dict, f)\n",
    "\n",
    "# with open('generated_game_state.pkl', 'wb') as f:\n",
    "#     pickle.dump(start_action_dict, f)\n",
    "\n",
    "print(start_action_dict)"
   ]
  },
  {
   "cell_type": "code",
   "execution_count": 6,
   "metadata": {},
   "outputs": [
    {
     "name": "stdout",
     "output_type": "stream",
     "text": [
      "Game state data: dict_keys(['map', 'player1', 'player2', 'player3', 'player4', 'boss', 'scoreBoard'])\n",
      "Player data: dict_keys(['type', 'r', 'q', 'playerIdx', 'name', 'health', 'power', 'level', 'kills', 'deaths', 'score', 'trapped', 'trapDuration', 'kd'])\n",
      "INDEX: 4\n",
      "Map data: dict_keys(['size', 'tiles'])\n",
      "One tile data: {'q': 0, 'r': -14, 'entity': {'type': 'EMPTY'}, 'tileType': 'NORMAL'}\n",
      "Boss data:  dict_keys(['type', 'bossAction', 'bossAttackedTiles'])\n",
      "Boss action:  True , boss AttackedTiles:  []\n",
      "ScoreBoard: dict_keys(['players'])\n",
      "dict_keys(['type', 'r', 'q', 'playerIdx', 'name', 'health', 'power', 'level', 'kills', 'deaths', 'score', 'trapped', 'trapDuration', 'kd'])\n"
     ]
    }
   ],
   "source": [
    "#print('Game state:', game_state.keys())\n",
    "print('Game state data:', game_state['gameState'].keys())\n",
    "print('Player data:', game_state['gameState']['player1'].keys())\n",
    "print('INDEX:', game_state['gameState']['player4']['playerIdx'])\n",
    "print('Map data:', game_state['gameState']['map'].keys())\n",
    "\n",
    "# r - od srednje linije, q - od najvece dijagonale\n",
    "# game_state['gameState']['map']['tiles'] je lista, gde je svaki element nova lista sa podacima o poljima koja imaju isto r \n",
    "print('One tile data:', game_state['gameState']['map']['tiles'][0][0])\n",
    "\n",
    "print('Boss data: ', game_state['gameState']['boss'].keys())\n",
    "print('Boss action: ', game_state['gameState']['boss']['bossAction'], ', boss AttackedTiles: ', game_state['gameState']['boss']['bossAttackedTiles'])\n",
    "\n",
    "print('ScoreBoard:', game_state['gameState']['scoreBoard'].keys())\n",
    "print(game_state['gameState']['scoreBoard']['players'][0].keys())"
   ]
  },
  {
   "cell_type": "code",
   "execution_count": null,
   "metadata": {},
   "outputs": [],
   "source": []
  }
 ],
 "metadata": {
  "kernelspec": {
   "display_name": "Python 3.10.8 ('aibg')",
   "language": "python",
   "name": "python3"
  },
  "language_info": {
   "codemirror_mode": {
    "name": "ipython",
    "version": 3
   },
   "file_extension": ".py",
   "mimetype": "text/x-python",
   "name": "python",
   "nbconvert_exporter": "python",
   "pygments_lexer": "ipython3",
   "version": "3.10.8"
  },
  "orig_nbformat": 4,
  "vscode": {
   "interpreter": {
    "hash": "11538d0fa7ba4ca4cded64b7b40ac5bcdf84792dd039f1c96ee081da5ad32564"
   }
  }
 },
 "nbformat": 4,
 "nbformat_minor": 2
}
