{
 "cells": [
  {
   "cell_type": "code",
   "execution_count": 15,
   "metadata": {},
   "outputs": [
    {
     "name": "stdout",
     "output_type": "stream",
     "text": [
      "{'q': 0, 'r': -14} {'q': 10, 'r': -10}\n"
     ]
    },
    {
     "data": {
      "text/plain": [
       "14.0"
      ]
     },
     "execution_count": 15,
     "metadata": {},
     "output_type": "execute_result"
    }
   ],
   "source": [
    "import json\n",
    "\n",
    "with open('map.json', 'r') as f:\n",
    "    map = json.load(f)\n",
    "\n",
    "tiles = map['tiles']\n",
    "coordinates = [ {'q': tile['q'], 'r': tile['r']}  for tiles_list in tiles for tile in tiles_list]\n",
    "\n",
    "def axial_to_cube(tile):\n",
    "    q = tile['q']\n",
    "    r = tile['r']\n",
    "    s = -q-r\n",
    "    return {'q': q, 'r': r, 's':s}\n",
    "\n",
    "def axial_distance(a, b):\n",
    "    return (abs(a['q'] - b['q']) \n",
    "          + abs(a['q'] + a['r'] - b['q'] - b['r'])\n",
    "          + abs(a['r'] - b['r'])) / 2\n",
    "\n",
    "a, b = {'q': 0, 'r': 0}, coordinates[80]\n",
    "print(a, b)\n",
    "axial_distance(a, b)"
   ]
  }
 ],
 "metadata": {
  "kernelspec": {
   "display_name": "Python 3.10.8 ('aibg')",
   "language": "python",
   "name": "python3"
  },
  "language_info": {
   "codemirror_mode": {
    "name": "ipython",
    "version": 3
   },
   "file_extension": ".py",
   "mimetype": "text/x-python",
   "name": "python",
   "nbconvert_exporter": "python",
   "pygments_lexer": "ipython3",
   "version": "3.10.8"
  },
  "orig_nbformat": 4,
  "vscode": {
   "interpreter": {
    "hash": "11538d0fa7ba4ca4cded64b7b40ac5bcdf84792dd039f1c96ee081da5ad32564"
   }
  }
 },
 "nbformat": 4,
 "nbformat_minor": 2
}
